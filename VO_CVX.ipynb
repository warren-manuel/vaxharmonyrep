{
 "cells": [
  {
   "cell_type": "code",
   "execution_count": 3,
   "id": "6121c225-5f76-4cd1-a8a8-04761e08f22d",
   "metadata": {},
   "outputs": [
    {
     "name": "stderr",
     "output_type": "stream",
     "text": [
      "[nltk_data] Downloading package stopwords to\n",
      "[nltk_data]     /data/wmanuel3/mapping/mcon/nltk_data...\n",
      "[nltk_data]   Package stopwords is already up-to-date!\n",
      "[nltk_data] Downloading package punkt to\n",
      "[nltk_data]     /data/wmanuel3/mapping/mcon/nltk_data...\n",
      "[nltk_data]   Package punkt is already up-to-date!\n"
     ]
    },
    {
     "data": {
      "text/plain": [
       "True"
      ]
     },
     "execution_count": 3,
     "metadata": {},
     "output_type": "execute_result"
    }
   ],
   "source": [
    "import nltk\n",
    "from nltk.tokenize import word_tokenize\n",
    "nltk.download('stopwords')\n",
    "nltk.download('punkt')"
   ]
  },
  {
   "cell_type": "code",
   "execution_count": 4,
   "id": "c30c7521-6a37-4502-8cfc-d411fee0b8f3",
   "metadata": {},
   "outputs": [],
   "source": [
    "from nltk.corpus import stopwords\n",
    "from string import punctuation\n",
    "\n",
    "stopwords = stopwords.words('english')\n",
    "stopwords.append('vaccine')\n",
    "punctuation = list(punctuation)\n",
    "\n",
    "def preprocessing(words, stpw, punct):\n",
    "    tokens = word_tokenize(words.lower())\n",
    "    out = set([t for t in tokens if t not in stpw and t not in punct])\n",
    "    return out"
   ]
  },
  {
   "cell_type": "code",
   "execution_count": 160,
   "id": "f57fa4e5-626c-4053-91ce-287f8a10c3e3",
   "metadata": {},
   "outputs": [],
   "source": [
    "from owlready2 import *\n",
    "import re\n",
    "def load_vo(ontology_url, stopwords, punctuation):\n",
    "    \"\"\"\n",
    "    Load the Vaccine Ontology (VO) from the given URL and return a dictionary of the concepts in the ontology.\n",
    "    The dictionary has the following structure:\n",
    "    {concept_id: {'Label': label, #.label annotation\n",
    "                  'Vaccine Name': vaccine_name, #.VO_0003158 annotation\n",
    "                  'Definition': definition, #.IAO_0000115 annotation\n",
    "                  'Editor Note': editor_note, #.IAO_0000116 annotation\n",
    "                  'FDA Vaccine Indications': fda_vaccine_indications, #.VO_0003160 annotation\n",
    "                  'Tokens': tokens, #preprocessed tokens from the label and vaccine name\n",
    "                  'CVX_Codes': cvx_codes #list of CVX codes from .seeAlso and .VO_0005438 annotations\n",
    "                  }\n",
    "    }\n",
    "    \"\"\"\n",
    "    vo = owlready2.get_ontology(ontology_url)\n",
    "    vo.load()\n",
    "    vo_dict = {}\n",
    "    for i, concept in enumerate(vo.classes()):\n",
    "        cvx_codes = []\n",
    "        vo_id = re.search(r\"\\.(.*)\", str(concept)).group(1)\n",
    "        if vo_id == 'Thing':\n",
    "            continue\n",
    "        else:\n",
    "            lab = ''.join(concept.label)\n",
    "            vac_prop = ''.join(concept.VO_0003158)\n",
    "            defn = ''.join(concept.IAO_0000115)\n",
    "            edt_note = ''.join(concept.IAO_0000116)\n",
    "            vac_fda = ''.join(concept.VO_0003160)\n",
    "            if len(concept.VO_0005438) > 0:\n",
    "                for cvx in concept.VO_0005438:\n",
    "                    cvx_codes.append(cvx)\n",
    "            for cvx in concept.seeAlso:\n",
    "                if cvx.startswith('CVX'):\n",
    "                    code = re.search(r\"^CVX\\D*:\\D*(\\d*)\", cvx).group(1)\n",
    "                    cvx_codes.append(code)\n",
    "            \n",
    "            if vac_prop != '':\n",
    "                tokens = preprocessing(vac_prop,stopwords,punctuation)\n",
    "            else:\n",
    "                tokens = preprocessing(lab, stopwords, punctuation)\n",
    "            vo_dict[vo_id] = {'Label':lab,\n",
    "                              'Vaccine Name':vac_prop,\n",
    "                              'Definition':defn,\n",
    "                              'Editor Note':edt_note,\n",
    "                              'FDA Vaccine Indications':vac_fda,\n",
    "                              'Tokens':tokens,\n",
    "                              'CVX_Codes':cvx_codes}\n",
    "        if i % 100 == 0:\n",
    "            print(f'Processed {i} concepts')\n",
    "    return vo_dict"
   ]
  },
  {
   "cell_type": "code",
   "execution_count": 161,
   "id": "8c508408-3a78-4bca-aae1-c9b36cfb3828",
   "metadata": {
    "scrolled": true
   },
   "outputs": [
    {
     "name": "stdout",
     "output_type": "stream",
     "text": [
      "Processed 0 concepts\n",
      "Processed 100 concepts\n",
      "Processed 200 concepts\n",
      "Processed 300 concepts\n",
      "Processed 400 concepts\n",
      "Processed 500 concepts\n",
      "Processed 600 concepts\n",
      "Processed 700 concepts\n",
      "Processed 800 concepts\n",
      "Processed 900 concepts\n",
      "Processed 1000 concepts\n",
      "Processed 1100 concepts\n",
      "Processed 1200 concepts\n",
      "Processed 1300 concepts\n",
      "Processed 1400 concepts\n",
      "Processed 1500 concepts\n",
      "Processed 1600 concepts\n",
      "Processed 1700 concepts\n",
      "Processed 1800 concepts\n",
      "Processed 1900 concepts\n",
      "Processed 2000 concepts\n",
      "Processed 2100 concepts\n",
      "Processed 2200 concepts\n",
      "Processed 2300 concepts\n",
      "Processed 2400 concepts\n",
      "Processed 2500 concepts\n",
      "Processed 2600 concepts\n",
      "Processed 2700 concepts\n",
      "Processed 2800 concepts\n",
      "Processed 2900 concepts\n",
      "Processed 3000 concepts\n",
      "Processed 3100 concepts\n",
      "Processed 3200 concepts\n",
      "Processed 3300 concepts\n",
      "Processed 3400 concepts\n",
      "Processed 3500 concepts\n",
      "Processed 3600 concepts\n",
      "Processed 3700 concepts\n",
      "Processed 3800 concepts\n",
      "Processed 3900 concepts\n",
      "Processed 4000 concepts\n",
      "Processed 4100 concepts\n",
      "Processed 4200 concepts\n",
      "Processed 4300 concepts\n",
      "Processed 4400 concepts\n",
      "Processed 4500 concepts\n",
      "Processed 4600 concepts\n",
      "Processed 4700 concepts\n",
      "Processed 4800 concepts\n",
      "Processed 4900 concepts\n",
      "Processed 5000 concepts\n",
      "Processed 5100 concepts\n",
      "Processed 5200 concepts\n",
      "Processed 5300 concepts\n",
      "Processed 5400 concepts\n",
      "Processed 5500 concepts\n",
      "Processed 5600 concepts\n",
      "Processed 5700 concepts\n",
      "Processed 5800 concepts\n",
      "Processed 5900 concepts\n",
      "Processed 6000 concepts\n",
      "Processed 6100 concepts\n",
      "Processed 6200 concepts\n",
      "Processed 6300 concepts\n",
      "Processed 6400 concepts\n",
      "Processed 6500 concepts\n",
      "Processed 6600 concepts\n",
      "Processed 6700 concepts\n",
      "Processed 6800 concepts\n",
      "Processed 6900 concepts\n",
      "Processed 7000 concepts\n",
      "Processed 7100 concepts\n",
      "Processed 7200 concepts\n",
      "Processed 7300 concepts\n",
      "Processed 7400 concepts\n",
      "Processed 7500 concepts\n",
      "Processed 7600 concepts\n",
      "Processed 7700 concepts\n",
      "Processed 7800 concepts\n",
      "Processed 7900 concepts\n",
      "Processed 8000 concepts\n",
      "Processed 8100 concepts\n",
      "Processed 8200 concepts\n"
     ]
    }
   ],
   "source": [
    "vo_04_24 = 'https://data.bioontology.org/ontologies/VO/submissions/291/download?apikey=8b5b7825-538d-40e0-9e9e-5ab9274a9aeb'\n",
    "vo_dict_04_24 = load_vo(vo_04_24,stopwords, punctuation)"
   ]
  },
  {
   "cell_type": "code",
   "execution_count": 129,
   "id": "10b5d9f6-e01f-4456-a0d1-c57994073623",
   "metadata": {
    "scrolled": true
   },
   "outputs": [
    {
     "name": "stdout",
     "output_type": "stream",
     "text": [
      "Processed 100 concepts\n",
      "Processed 200 concepts\n",
      "Processed 300 concepts\n",
      "Processed 400 concepts\n",
      "Processed 500 concepts\n",
      "Processed 600 concepts\n",
      "Processed 700 concepts\n",
      "Processed 800 concepts\n",
      "Processed 900 concepts\n",
      "Processed 1000 concepts\n",
      "Processed 1100 concepts\n",
      "Processed 1200 concepts\n",
      "Processed 1300 concepts\n",
      "Processed 1400 concepts\n",
      "Processed 1500 concepts\n",
      "Processed 1600 concepts\n",
      "Processed 1700 concepts\n",
      "Processed 1800 concepts\n",
      "Processed 1900 concepts\n",
      "Processed 2000 concepts\n",
      "Processed 2100 concepts\n",
      "Processed 2200 concepts\n",
      "Processed 2300 concepts\n",
      "Processed 2400 concepts\n",
      "Processed 2500 concepts\n",
      "Processed 2600 concepts\n",
      "Processed 2700 concepts\n",
      "Processed 2800 concepts\n",
      "Processed 2900 concepts\n",
      "Processed 3000 concepts\n",
      "Processed 3100 concepts\n",
      "Processed 3200 concepts\n",
      "Processed 3300 concepts\n",
      "Processed 3400 concepts\n",
      "Processed 3500 concepts\n",
      "Processed 3600 concepts\n",
      "Processed 3700 concepts\n",
      "Processed 3800 concepts\n",
      "Processed 3900 concepts\n",
      "Processed 4000 concepts\n",
      "Processed 4100 concepts\n",
      "Processed 4200 concepts\n",
      "Processed 4300 concepts\n",
      "Processed 4400 concepts\n",
      "Processed 4500 concepts\n",
      "Processed 4600 concepts\n",
      "Processed 4700 concepts\n",
      "Processed 4800 concepts\n",
      "Processed 4900 concepts\n",
      "Processed 5000 concepts\n",
      "Processed 5100 concepts\n",
      "Processed 5200 concepts\n",
      "Processed 5300 concepts\n",
      "Processed 5400 concepts\n",
      "Processed 5500 concepts\n",
      "Processed 5600 concepts\n",
      "Processed 5700 concepts\n",
      "Processed 5800 concepts\n",
      "Processed 5900 concepts\n",
      "Processed 6000 concepts\n",
      "Processed 6100 concepts\n",
      "Processed 6200 concepts\n",
      "Processed 6300 concepts\n",
      "Processed 6400 concepts\n",
      "Processed 6500 concepts\n",
      "Processed 6600 concepts\n",
      "Processed 6700 concepts\n",
      "Processed 6800 concepts\n",
      "Processed 6900 concepts\n"
     ]
    }
   ],
   "source": [
    "# 1.1.218 (02-26-2023)\n",
    "vo_02_23 = 'https://data.bioontology.org/ontologies/VO/submissions/282/download?apikey=8b5b7825-538d-40e0-9e9e-5ab9274a9aeb'\n",
    "vo_dict_02_23 = load_vo(vo_02_23,stopwords, punctuation)"
   ]
  },
  {
   "cell_type": "code",
   "execution_count": 130,
   "id": "994cf07c",
   "metadata": {},
   "outputs": [
    {
     "name": "stdout",
     "output_type": "stream",
     "text": [
      "Processed 100 concepts\n",
      "Processed 200 concepts\n",
      "Processed 300 concepts\n",
      "Processed 400 concepts\n",
      "Processed 500 concepts\n",
      "Processed 600 concepts\n",
      "Processed 700 concepts\n",
      "Processed 800 concepts\n",
      "Processed 900 concepts\n",
      "Processed 1000 concepts\n",
      "Processed 1100 concepts\n",
      "Processed 1200 concepts\n",
      "Processed 1300 concepts\n",
      "Processed 1400 concepts\n",
      "Processed 1500 concepts\n",
      "Processed 1600 concepts\n",
      "Processed 1700 concepts\n",
      "Processed 1800 concepts\n",
      "Processed 1900 concepts\n",
      "Processed 2000 concepts\n",
      "Processed 2100 concepts\n",
      "Processed 2200 concepts\n",
      "Processed 2300 concepts\n",
      "Processed 2400 concepts\n",
      "Processed 2500 concepts\n",
      "Processed 2600 concepts\n",
      "Processed 2700 concepts\n",
      "Processed 2800 concepts\n",
      "Processed 2900 concepts\n",
      "Processed 3000 concepts\n",
      "Processed 3100 concepts\n",
      "Processed 3200 concepts\n",
      "Processed 3300 concepts\n",
      "Processed 3400 concepts\n",
      "Processed 3500 concepts\n",
      "Processed 3600 concepts\n",
      "Processed 3700 concepts\n",
      "Processed 3800 concepts\n",
      "Processed 3900 concepts\n",
      "Processed 4000 concepts\n",
      "Processed 4100 concepts\n",
      "Processed 4200 concepts\n",
      "Processed 4300 concepts\n",
      "Processed 4400 concepts\n",
      "Processed 4500 concepts\n",
      "Processed 4600 concepts\n",
      "Processed 4700 concepts\n",
      "Processed 4800 concepts\n",
      "Processed 4900 concepts\n",
      "Processed 5000 concepts\n",
      "Processed 5100 concepts\n",
      "Processed 5200 concepts\n",
      "Processed 5300 concepts\n",
      "Processed 5400 concepts\n",
      "Processed 5500 concepts\n",
      "Processed 5600 concepts\n",
      "Processed 5700 concepts\n",
      "Processed 5800 concepts\n",
      "Processed 5900 concepts\n",
      "Processed 6000 concepts\n",
      "Processed 6100 concepts\n",
      "Processed 6200 concepts\n",
      "Processed 6300 concepts\n",
      "Processed 6400 concepts\n",
      "Processed 6500 concepts\n",
      "Processed 6600 concepts\n",
      "Processed 6700 concepts\n",
      "Processed 6800 concepts\n",
      "Processed 6900 concepts\n"
     ]
    }
   ],
   "source": [
    "# 1.1.218 (10-05-2022)\n",
    "vo_10_22 = 'https://data.bioontology.org/ontologies/VO/submissions/280/download?apikey=8b5b7825-538d-40e0-9e9e-5ab9274a9aeb'\n",
    "vo_dict_10_22 = load_vo(vo_10_22,stopwords, punctuation)"
   ]
  },
  {
   "cell_type": "code",
   "execution_count": 131,
   "id": "09f3ca54-7251-47ed-a361-9e26fe706f4e",
   "metadata": {},
   "outputs": [
    {
     "name": "stdout",
     "output_type": "stream",
     "text": [
      "VO 04-24: 7176, VO 02-23: 6238, VO 10-22: 6225\n"
     ]
    }
   ],
   "source": [
    "import pandas as pd\n",
    "vo_df_04_24 = pd.DataFrame.from_records(vo_dict_04_24).T\n",
    "vo_df_04_24['VO_ID'] = vo_df_04_24.index\n",
    "# Keep vo_df rows where VO_ID begins with 'VO'\n",
    "vo_df_04_24 = vo_df_04_24[vo_df_04_24['VO_ID'].str.startswith('VO')]\n",
    "len(vo_dict_04_24)\n",
    "\n",
    "vo_df_02_23 = pd.DataFrame.from_records(vo_dict_02_23).T\n",
    "vo_df_02_23['VO_ID'] = vo_df_02_23.index\n",
    "vo_df_02_23 = vo_df_02_23[vo_df_02_23['VO_ID'].str.startswith('VO')]\n",
    "\n",
    "vo_df_10_22 = pd.DataFrame.from_records(vo_dict_10_22).T\n",
    "vo_df_10_22['VO_ID'] = vo_df_10_22.index\n",
    "vo_df_10_22 = vo_df_10_22[vo_df_10_22['VO_ID'].str.startswith('VO')]\n",
    "# Check the number of concepts in each version\n",
    "print(f'VO 04-24: {len(vo_df_04_24)}, VO 02-23: {len(vo_df_02_23)}, VO 10-22: {len(vo_df_10_22)}')"
   ]
  },
  {
   "cell_type": "code",
   "execution_count": 132,
   "id": "ea34b8d8-ad7b-40e3-9a48-26acb675f0ea",
   "metadata": {},
   "outputs": [
    {
     "data": {
      "text/plain": [
       "0    6985\n",
       "1     181\n",
       "2       7\n",
       "3       3\n",
       "Name: CVX_Codes, dtype: int64"
      ]
     },
     "execution_count": 132,
     "metadata": {},
     "output_type": "execute_result"
    }
   ],
   "source": [
    "# Get vo_df['CVX_Codes'] counts for empty []\n",
    "vo_df['CVX_Codes'].apply(lambda x: len(x)).value_counts()\n",
    "# vo_df['CVX_Codes'].value_counts()"
   ]
  },
  {
   "cell_type": "code",
   "execution_count": 39,
   "id": "40ca69b3-eee5-4eda-bf85-18a7c2bd4306",
   "metadata": {
    "scrolled": true
   },
   "outputs": [
    {
     "data": {
      "text/plain": [
       "0    6167\n",
       "1      61\n",
       "2       7\n",
       "3       3\n",
       "Name: CVX_Codes, dtype: int64"
      ]
     },
     "execution_count": 39,
     "metadata": {},
     "output_type": "execute_result"
    }
   ],
   "source": [
    "# vo_df_old['CVX_Codes'].value_counts()\n",
    "vo_df_old['CVX_Codes'].apply(lambda x: len(x)).value_counts()"
   ]
  },
  {
   "cell_type": "code",
   "execution_count": 162,
   "id": "28247f09-95af-4544-aba1-993e0ba703be",
   "metadata": {},
   "outputs": [
    {
     "data": {
      "text/plain": [
       "{'Label': 'SARS-COV-2 COVID-19 mRNA, bivalent, original/Omicron BA.1, Non-US Vaccine Product (Comirnaty Bivalent), Pfizer-BioNTech',\n",
       " 'Vaccine Name': '',\n",
       " 'Definition': 'A Comirnaty COVID-19 mRNA vaccine produced by Pfizer-BioNTech,which is a bivalent vaccine that is effective against the original strain of COVID-19 as well as the Omicron BA.1 variant.A non-US vaccine product.',\n",
       " 'Editor Note': '',\n",
       " 'FDA Vaccine Indications': '',\n",
       " 'Tokens': {'ba.1',\n",
       "  'bivalent',\n",
       "  'comirnaty',\n",
       "  'covid-19',\n",
       "  'mrna',\n",
       "  'non-us',\n",
       "  'original/omicron',\n",
       "  'pfizer-biontech',\n",
       "  'product',\n",
       "  'sars-cov-2'},\n",
       " 'CVX_Codes': ['520']}"
      ]
     },
     "execution_count": 162,
     "metadata": {},
     "output_type": "execute_result"
    }
   ],
   "source": [
    "# vo_dict['VO_0005440']\n",
    "# vo_dict['VO_0006011']\n",
    "vo_dict_04_24['VO_0005435']"
   ]
  },
  {
   "cell_type": "code",
   "execution_count": 144,
   "id": "566f4e66-62cc-46b8-844c-374664505952",
   "metadata": {},
   "outputs": [
    {
     "ename": "KeyError",
     "evalue": "'VO_0006067'",
     "output_type": "error",
     "traceback": [
      "\u001b[0;31m---------------------------------------------------------------------------\u001b[0m",
      "\u001b[0;31mKeyError\u001b[0m                                  Traceback (most recent call last)",
      "Cell \u001b[0;32mIn[144], line 3\u001b[0m\n\u001b[1;32m      1\u001b[0m \u001b[38;5;66;03m# vo_dict_old['VO_0005440']\u001b[39;00m\n\u001b[1;32m      2\u001b[0m \u001b[38;5;66;03m# vo_dict_old['VO_0006011']\u001b[39;00m\n\u001b[0;32m----> 3\u001b[0m \u001b[43mvo_dict_02_23\u001b[49m\u001b[43m[\u001b[49m\u001b[38;5;124;43m'\u001b[39;49m\u001b[38;5;124;43mVO_0006067\u001b[39;49m\u001b[38;5;124;43m'\u001b[39;49m\u001b[43m]\u001b[49m\n",
      "\u001b[0;31mKeyError\u001b[0m: 'VO_0006067'"
     ]
    }
   ],
   "source": [
    "# vo_dict_old['VO_0005440']\n",
    "# vo_dict_old['VO_0006011']\n",
    "vo_dict_02_23['VO_0006067']"
   ]
  },
  {
   "cell_type": "code",
   "execution_count": 145,
   "id": "b48606e9",
   "metadata": {},
   "outputs": [
    {
     "ename": "KeyError",
     "evalue": "'VO_0006067'",
     "output_type": "error",
     "traceback": [
      "\u001b[0;31m---------------------------------------------------------------------------\u001b[0m",
      "\u001b[0;31mKeyError\u001b[0m                                  Traceback (most recent call last)",
      "Cell \u001b[0;32mIn[145], line 1\u001b[0m\n\u001b[0;32m----> 1\u001b[0m \u001b[43mvo_dict_10_22\u001b[49m\u001b[43m[\u001b[49m\u001b[38;5;124;43m'\u001b[39;49m\u001b[38;5;124;43mVO_0006067\u001b[39;49m\u001b[38;5;124;43m'\u001b[39;49m\u001b[43m]\u001b[49m\n",
      "\u001b[0;31mKeyError\u001b[0m: 'VO_0006067'"
     ]
    }
   ],
   "source": [
    "vo_dict_10_22['VO_0006067']"
   ]
  },
  {
   "cell_type": "code",
   "execution_count": 181,
   "id": "1f37d1dc",
   "metadata": {},
   "outputs": [],
   "source": [
    "#New dataframe joining vo_df and vo_df_old on VO_ID. \n",
    "vo_df_all = vo_df_04_24[['VO_ID','CVX_Codes']].merge(vo_df_02_23[['VO_ID','CVX_Codes']], on='VO_ID', how='outer', suffixes=('_new', '_old'))\n",
    "vo_df_all['Identical']= vo_df_all['CVX_Codes_new'] == vo_df_all['CVX_Codes_old']\n",
    "# vo_df_all[vo_df_all['Identical'] == False].to_csv('vo_cvx_codes_diff_2.csv', index=False)\n",
    "\n",
    "# Drop null rows\n",
    "vo_df_all = vo_df_all.dropna()"
   ]
  },
  {
   "cell_type": "code",
   "execution_count": 184,
   "id": "e39c7286",
   "metadata": {},
   "outputs": [
    {
     "data": {
      "text/html": [
       "<div>\n",
       "<style scoped>\n",
       "    .dataframe tbody tr th:only-of-type {\n",
       "        vertical-align: middle;\n",
       "    }\n",
       "\n",
       "    .dataframe tbody tr th {\n",
       "        vertical-align: top;\n",
       "    }\n",
       "\n",
       "    .dataframe thead th {\n",
       "        text-align: right;\n",
       "    }\n",
       "</style>\n",
       "<table border=\"1\" class=\"dataframe\">\n",
       "  <thead>\n",
       "    <tr style=\"text-align: right;\">\n",
       "      <th></th>\n",
       "      <th>VO_ID</th>\n",
       "      <th>CVX_Codes_new</th>\n",
       "      <th>CVX_Codes_old</th>\n",
       "      <th>Identical</th>\n",
       "    </tr>\n",
       "  </thead>\n",
       "  <tbody>\n",
       "    <tr>\n",
       "      <th>3</th>\n",
       "      <td>VO_0000003</td>\n",
       "      <td>[75]</td>\n",
       "      <td>[75]</td>\n",
       "      <td>True</td>\n",
       "    </tr>\n",
       "    <tr>\n",
       "      <th>4</th>\n",
       "      <td>VO_0000004</td>\n",
       "      <td>[48]</td>\n",
       "      <td>[48]</td>\n",
       "      <td>True</td>\n",
       "    </tr>\n",
       "    <tr>\n",
       "      <th>5</th>\n",
       "      <td>VO_0000005</td>\n",
       "      <td>[115, 20]</td>\n",
       "      <td>[115, 20]</td>\n",
       "      <td>True</td>\n",
       "    </tr>\n",
       "    <tr>\n",
       "      <th>6</th>\n",
       "      <td>VO_0000006</td>\n",
       "      <td>[140, 141]</td>\n",
       "      <td>[140, 141]</td>\n",
       "      <td>True</td>\n",
       "    </tr>\n",
       "    <tr>\n",
       "      <th>14</th>\n",
       "      <td>VO_0000014</td>\n",
       "      <td>[24]</td>\n",
       "      <td>[24]</td>\n",
       "      <td>True</td>\n",
       "    </tr>\n",
       "    <tr>\n",
       "      <th>...</th>\n",
       "      <td>...</td>\n",
       "      <td>...</td>\n",
       "      <td>...</td>\n",
       "      <td>...</td>\n",
       "    </tr>\n",
       "    <tr>\n",
       "      <th>6171</th>\n",
       "      <td>VO_0010715</td>\n",
       "      <td>[48]</td>\n",
       "      <td>[48]</td>\n",
       "      <td>True</td>\n",
       "    </tr>\n",
       "    <tr>\n",
       "      <th>6178</th>\n",
       "      <td>VO_0010722</td>\n",
       "      <td>[120]</td>\n",
       "      <td>[120]</td>\n",
       "      <td>True</td>\n",
       "    </tr>\n",
       "    <tr>\n",
       "      <th>6193</th>\n",
       "      <td>VO_0010737</td>\n",
       "      <td>[08, 43, 44]</td>\n",
       "      <td>[08, 43, 44]</td>\n",
       "      <td>True</td>\n",
       "    </tr>\n",
       "    <tr>\n",
       "      <th>7004</th>\n",
       "      <td>VO_0011558</td>\n",
       "      <td>[134]</td>\n",
       "      <td>[134]</td>\n",
       "      <td>True</td>\n",
       "    </tr>\n",
       "    <tr>\n",
       "      <th>7005</th>\n",
       "      <td>VO_0011559</td>\n",
       "      <td>[118]</td>\n",
       "      <td>[118]</td>\n",
       "      <td>True</td>\n",
       "    </tr>\n",
       "  </tbody>\n",
       "</table>\n",
       "<p>71 rows × 4 columns</p>\n",
       "</div>"
      ],
      "text/plain": [
       "           VO_ID CVX_Codes_new CVX_Codes_old  Identical\n",
       "3     VO_0000003          [75]          [75]       True\n",
       "4     VO_0000004          [48]          [48]       True\n",
       "5     VO_0000005     [115, 20]     [115, 20]       True\n",
       "6     VO_0000006    [140, 141]    [140, 141]       True\n",
       "14    VO_0000014          [24]          [24]       True\n",
       "...          ...           ...           ...        ...\n",
       "6171  VO_0010715          [48]          [48]       True\n",
       "6178  VO_0010722         [120]         [120]       True\n",
       "6193  VO_0010737  [08, 43, 44]  [08, 43, 44]       True\n",
       "7004  VO_0011558         [134]         [134]       True\n",
       "7005  VO_0011559         [118]         [118]       True\n",
       "\n",
       "[71 rows x 4 columns]"
      ]
     },
     "execution_count": 184,
     "metadata": {},
     "output_type": "execute_result"
    }
   ],
   "source": [
    "vo_df_all[(vo_df_all['Identical'] == True) & (vo_df_all['CVX_Codes_new'].apply(lambda x: len(x)) > 0)]"
   ]
  },
  {
   "cell_type": "markdown",
   "id": "970455cd",
   "metadata": {},
   "source": [
    "Potential Issue for Evaluation: \n",
    "    \n",
    "    Cannot use newer version for mapping evaluation. All new CVX annotations are for NEW CONCEPTS "
   ]
  },
  {
   "cell_type": "code",
   "execution_count": null,
   "id": "aef3f27b",
   "metadata": {},
   "outputs": [],
   "source": [
    "yuanyi_results = ['VO_0000738','VO_0003092','VO_0000731','VO_0000945','VO_0000654','VO_0010637','VO_0000656','VO_0003834','VO_0000765','VO_0000771','VO_0003442','VO_0003122','VO_0000648','VO_0010727','VO:0003418','VO_0000660','VO_0000659','VO_0010715','VO_0003168','VO_0004872','VO_0004877','VO_0012167','VO_0000295','VO_0000762','VO_0000764','VO_0000761','VO_0000422','VO_0000451','VO_0000463','VO_0012166','VO_0000433','VO_0000152','VO_0004112','VO_0000743','VO_0000102','VO_0010738','VO_0004175','VO_0010736','VO_0004877','VO_0003439','VO_0000031','VO_0000980','VO_0000978','VO_0004281','VO_0010710','VO_0000094','VO_0003139','VO_0003067','VO_0003152','VO_0010743','VO_0003095','VO_0003155','VO_0005158','VO_0005155','VO_0005159','VO_0005093','VO_0004991','VO_0005187','VO_0005163','VO_0005088','VO_0005166','VO_0005141','VO_0004992','VO_0005162','VO_0005192','VO_0005084','VO_0005081','VO_0005099','VO_0001320']"
   ]
  },
  {
   "cell_type": "code",
   "execution_count": 187,
   "id": "e9304148",
   "metadata": {},
   "outputs": [
    {
     "ename": "FileNotFoundError",
     "evalue": "[Errno 2] No such file or directory: 'src_data/cvx_code.csv'",
     "output_type": "error",
     "traceback": [
      "\u001b[0;31m---------------------------------------------------------------------------\u001b[0m",
      "\u001b[0;31mFileNotFoundError\u001b[0m                         Traceback (most recent call last)",
      "Cell \u001b[0;32mIn[187], line 2\u001b[0m\n\u001b[1;32m      1\u001b[0m cvx_file \u001b[38;5;241m=\u001b[39m \u001b[38;5;124m'\u001b[39m\u001b[38;5;124msrc_data/cvx_code.csv\u001b[39m\u001b[38;5;124m'\u001b[39m\n\u001b[0;32m----> 2\u001b[0m cvx_df \u001b[38;5;241m=\u001b[39m \u001b[43mpd\u001b[49m\u001b[38;5;241;43m.\u001b[39;49m\u001b[43mread_csv\u001b[49m\u001b[43m(\u001b[49m\u001b[43mcvx_file\u001b[49m\u001b[43m,\u001b[49m\u001b[43m \u001b[49m\u001b[43msep\u001b[49m\u001b[38;5;241;43m=\u001b[39;49m\u001b[38;5;124;43m'\u001b[39;49m\u001b[38;5;124;43m|\u001b[39;49m\u001b[38;5;124;43m'\u001b[39;49m\u001b[43m,\u001b[49m\u001b[43m \u001b[49m\u001b[43mnames\u001b[49m\u001b[43m \u001b[49m\u001b[38;5;241;43m=\u001b[39;49m\u001b[43m \u001b[49m\u001b[43m[\u001b[49m\u001b[38;5;124;43m'\u001b[39;49m\u001b[38;5;124;43mShort Description\u001b[39;49m\u001b[38;5;124;43m'\u001b[39;49m\u001b[43m,\u001b[49m\u001b[38;5;124;43m'\u001b[39;49m\u001b[38;5;124;43mFull Vaccine name\u001b[39;49m\u001b[38;5;124;43m'\u001b[39;49m\u001b[43m,\u001b[49m\u001b[38;5;124;43m'\u001b[39;49m\u001b[38;5;124;43mCVX Code\u001b[39;49m\u001b[38;5;124;43m'\u001b[39;49m\u001b[43m,\u001b[49m\u001b[38;5;124;43m'\u001b[39;49m\u001b[38;5;124;43mVaccine Status\u001b[39;49m\u001b[38;5;124;43m'\u001b[39;49m\u001b[43m,\u001b[49m\u001b[38;5;124;43m'\u001b[39;49m\u001b[38;5;124;43mLast Updated Date\u001b[39;49m\u001b[38;5;124;43m'\u001b[39;49m\u001b[43m,\u001b[49m\u001b[38;5;124;43m'\u001b[39;49m\u001b[38;5;124;43mNotes\u001b[39;49m\u001b[38;5;124;43m'\u001b[39;49m\u001b[43m]\u001b[49m\u001b[43m)\u001b[49m\n\u001b[1;32m      3\u001b[0m cvx_df\n",
      "File \u001b[0;32m/data/wmanuel3/mapping/mcon/lib/python3.8/site-packages/pandas/util/_decorators.py:211\u001b[0m, in \u001b[0;36mdeprecate_kwarg.<locals>._deprecate_kwarg.<locals>.wrapper\u001b[0;34m(*args, **kwargs)\u001b[0m\n\u001b[1;32m    209\u001b[0m     \u001b[38;5;28;01melse\u001b[39;00m:\n\u001b[1;32m    210\u001b[0m         kwargs[new_arg_name] \u001b[38;5;241m=\u001b[39m new_arg_value\n\u001b[0;32m--> 211\u001b[0m \u001b[38;5;28;01mreturn\u001b[39;00m \u001b[43mfunc\u001b[49m\u001b[43m(\u001b[49m\u001b[38;5;241;43m*\u001b[39;49m\u001b[43margs\u001b[49m\u001b[43m,\u001b[49m\u001b[43m \u001b[49m\u001b[38;5;241;43m*\u001b[39;49m\u001b[38;5;241;43m*\u001b[39;49m\u001b[43mkwargs\u001b[49m\u001b[43m)\u001b[49m\n",
      "File \u001b[0;32m/data/wmanuel3/mapping/mcon/lib/python3.8/site-packages/pandas/util/_decorators.py:331\u001b[0m, in \u001b[0;36mdeprecate_nonkeyword_arguments.<locals>.decorate.<locals>.wrapper\u001b[0;34m(*args, **kwargs)\u001b[0m\n\u001b[1;32m    325\u001b[0m \u001b[38;5;28;01mif\u001b[39;00m \u001b[38;5;28mlen\u001b[39m(args) \u001b[38;5;241m>\u001b[39m num_allow_args:\n\u001b[1;32m    326\u001b[0m     warnings\u001b[38;5;241m.\u001b[39mwarn(\n\u001b[1;32m    327\u001b[0m         msg\u001b[38;5;241m.\u001b[39mformat(arguments\u001b[38;5;241m=\u001b[39m_format_argument_list(allow_args)),\n\u001b[1;32m    328\u001b[0m         \u001b[38;5;167;01mFutureWarning\u001b[39;00m,\n\u001b[1;32m    329\u001b[0m         stacklevel\u001b[38;5;241m=\u001b[39mfind_stack_level(),\n\u001b[1;32m    330\u001b[0m     )\n\u001b[0;32m--> 331\u001b[0m \u001b[38;5;28;01mreturn\u001b[39;00m \u001b[43mfunc\u001b[49m\u001b[43m(\u001b[49m\u001b[38;5;241;43m*\u001b[39;49m\u001b[43margs\u001b[49m\u001b[43m,\u001b[49m\u001b[43m \u001b[49m\u001b[38;5;241;43m*\u001b[39;49m\u001b[38;5;241;43m*\u001b[39;49m\u001b[43mkwargs\u001b[49m\u001b[43m)\u001b[49m\n",
      "File \u001b[0;32m/data/wmanuel3/mapping/mcon/lib/python3.8/site-packages/pandas/io/parsers/readers.py:950\u001b[0m, in \u001b[0;36mread_csv\u001b[0;34m(filepath_or_buffer, sep, delimiter, header, names, index_col, usecols, squeeze, prefix, mangle_dupe_cols, dtype, engine, converters, true_values, false_values, skipinitialspace, skiprows, skipfooter, nrows, na_values, keep_default_na, na_filter, verbose, skip_blank_lines, parse_dates, infer_datetime_format, keep_date_col, date_parser, dayfirst, cache_dates, iterator, chunksize, compression, thousands, decimal, lineterminator, quotechar, quoting, doublequote, escapechar, comment, encoding, encoding_errors, dialect, error_bad_lines, warn_bad_lines, on_bad_lines, delim_whitespace, low_memory, memory_map, float_precision, storage_options)\u001b[0m\n\u001b[1;32m    935\u001b[0m kwds_defaults \u001b[38;5;241m=\u001b[39m _refine_defaults_read(\n\u001b[1;32m    936\u001b[0m     dialect,\n\u001b[1;32m    937\u001b[0m     delimiter,\n\u001b[0;32m   (...)\u001b[0m\n\u001b[1;32m    946\u001b[0m     defaults\u001b[38;5;241m=\u001b[39m{\u001b[38;5;124m\"\u001b[39m\u001b[38;5;124mdelimiter\u001b[39m\u001b[38;5;124m\"\u001b[39m: \u001b[38;5;124m\"\u001b[39m\u001b[38;5;124m,\u001b[39m\u001b[38;5;124m\"\u001b[39m},\n\u001b[1;32m    947\u001b[0m )\n\u001b[1;32m    948\u001b[0m kwds\u001b[38;5;241m.\u001b[39mupdate(kwds_defaults)\n\u001b[0;32m--> 950\u001b[0m \u001b[38;5;28;01mreturn\u001b[39;00m \u001b[43m_read\u001b[49m\u001b[43m(\u001b[49m\u001b[43mfilepath_or_buffer\u001b[49m\u001b[43m,\u001b[49m\u001b[43m \u001b[49m\u001b[43mkwds\u001b[49m\u001b[43m)\u001b[49m\n",
      "File \u001b[0;32m/data/wmanuel3/mapping/mcon/lib/python3.8/site-packages/pandas/io/parsers/readers.py:605\u001b[0m, in \u001b[0;36m_read\u001b[0;34m(filepath_or_buffer, kwds)\u001b[0m\n\u001b[1;32m    602\u001b[0m _validate_names(kwds\u001b[38;5;241m.\u001b[39mget(\u001b[38;5;124m\"\u001b[39m\u001b[38;5;124mnames\u001b[39m\u001b[38;5;124m\"\u001b[39m, \u001b[38;5;28;01mNone\u001b[39;00m))\n\u001b[1;32m    604\u001b[0m \u001b[38;5;66;03m# Create the parser.\u001b[39;00m\n\u001b[0;32m--> 605\u001b[0m parser \u001b[38;5;241m=\u001b[39m \u001b[43mTextFileReader\u001b[49m\u001b[43m(\u001b[49m\u001b[43mfilepath_or_buffer\u001b[49m\u001b[43m,\u001b[49m\u001b[43m \u001b[49m\u001b[38;5;241;43m*\u001b[39;49m\u001b[38;5;241;43m*\u001b[39;49m\u001b[43mkwds\u001b[49m\u001b[43m)\u001b[49m\n\u001b[1;32m    607\u001b[0m \u001b[38;5;28;01mif\u001b[39;00m chunksize \u001b[38;5;129;01mor\u001b[39;00m iterator:\n\u001b[1;32m    608\u001b[0m     \u001b[38;5;28;01mreturn\u001b[39;00m parser\n",
      "File \u001b[0;32m/data/wmanuel3/mapping/mcon/lib/python3.8/site-packages/pandas/io/parsers/readers.py:1442\u001b[0m, in \u001b[0;36mTextFileReader.__init__\u001b[0;34m(self, f, engine, **kwds)\u001b[0m\n\u001b[1;32m   1439\u001b[0m     \u001b[38;5;28mself\u001b[39m\u001b[38;5;241m.\u001b[39moptions[\u001b[38;5;124m\"\u001b[39m\u001b[38;5;124mhas_index_names\u001b[39m\u001b[38;5;124m\"\u001b[39m] \u001b[38;5;241m=\u001b[39m kwds[\u001b[38;5;124m\"\u001b[39m\u001b[38;5;124mhas_index_names\u001b[39m\u001b[38;5;124m\"\u001b[39m]\n\u001b[1;32m   1441\u001b[0m \u001b[38;5;28mself\u001b[39m\u001b[38;5;241m.\u001b[39mhandles: IOHandles \u001b[38;5;241m|\u001b[39m \u001b[38;5;28;01mNone\u001b[39;00m \u001b[38;5;241m=\u001b[39m \u001b[38;5;28;01mNone\u001b[39;00m\n\u001b[0;32m-> 1442\u001b[0m \u001b[38;5;28mself\u001b[39m\u001b[38;5;241m.\u001b[39m_engine \u001b[38;5;241m=\u001b[39m \u001b[38;5;28;43mself\u001b[39;49m\u001b[38;5;241;43m.\u001b[39;49m\u001b[43m_make_engine\u001b[49m\u001b[43m(\u001b[49m\u001b[43mf\u001b[49m\u001b[43m,\u001b[49m\u001b[43m \u001b[49m\u001b[38;5;28;43mself\u001b[39;49m\u001b[38;5;241;43m.\u001b[39;49m\u001b[43mengine\u001b[49m\u001b[43m)\u001b[49m\n",
      "File \u001b[0;32m/data/wmanuel3/mapping/mcon/lib/python3.8/site-packages/pandas/io/parsers/readers.py:1735\u001b[0m, in \u001b[0;36mTextFileReader._make_engine\u001b[0;34m(self, f, engine)\u001b[0m\n\u001b[1;32m   1733\u001b[0m     \u001b[38;5;28;01mif\u001b[39;00m \u001b[38;5;124m\"\u001b[39m\u001b[38;5;124mb\u001b[39m\u001b[38;5;124m\"\u001b[39m \u001b[38;5;129;01mnot\u001b[39;00m \u001b[38;5;129;01min\u001b[39;00m mode:\n\u001b[1;32m   1734\u001b[0m         mode \u001b[38;5;241m+\u001b[39m\u001b[38;5;241m=\u001b[39m \u001b[38;5;124m\"\u001b[39m\u001b[38;5;124mb\u001b[39m\u001b[38;5;124m\"\u001b[39m\n\u001b[0;32m-> 1735\u001b[0m \u001b[38;5;28mself\u001b[39m\u001b[38;5;241m.\u001b[39mhandles \u001b[38;5;241m=\u001b[39m \u001b[43mget_handle\u001b[49m\u001b[43m(\u001b[49m\n\u001b[1;32m   1736\u001b[0m \u001b[43m    \u001b[49m\u001b[43mf\u001b[49m\u001b[43m,\u001b[49m\n\u001b[1;32m   1737\u001b[0m \u001b[43m    \u001b[49m\u001b[43mmode\u001b[49m\u001b[43m,\u001b[49m\n\u001b[1;32m   1738\u001b[0m \u001b[43m    \u001b[49m\u001b[43mencoding\u001b[49m\u001b[38;5;241;43m=\u001b[39;49m\u001b[38;5;28;43mself\u001b[39;49m\u001b[38;5;241;43m.\u001b[39;49m\u001b[43moptions\u001b[49m\u001b[38;5;241;43m.\u001b[39;49m\u001b[43mget\u001b[49m\u001b[43m(\u001b[49m\u001b[38;5;124;43m\"\u001b[39;49m\u001b[38;5;124;43mencoding\u001b[39;49m\u001b[38;5;124;43m\"\u001b[39;49m\u001b[43m,\u001b[49m\u001b[43m \u001b[49m\u001b[38;5;28;43;01mNone\u001b[39;49;00m\u001b[43m)\u001b[49m\u001b[43m,\u001b[49m\n\u001b[1;32m   1739\u001b[0m \u001b[43m    \u001b[49m\u001b[43mcompression\u001b[49m\u001b[38;5;241;43m=\u001b[39;49m\u001b[38;5;28;43mself\u001b[39;49m\u001b[38;5;241;43m.\u001b[39;49m\u001b[43moptions\u001b[49m\u001b[38;5;241;43m.\u001b[39;49m\u001b[43mget\u001b[49m\u001b[43m(\u001b[49m\u001b[38;5;124;43m\"\u001b[39;49m\u001b[38;5;124;43mcompression\u001b[39;49m\u001b[38;5;124;43m\"\u001b[39;49m\u001b[43m,\u001b[49m\u001b[43m \u001b[49m\u001b[38;5;28;43;01mNone\u001b[39;49;00m\u001b[43m)\u001b[49m\u001b[43m,\u001b[49m\n\u001b[1;32m   1740\u001b[0m \u001b[43m    \u001b[49m\u001b[43mmemory_map\u001b[49m\u001b[38;5;241;43m=\u001b[39;49m\u001b[38;5;28;43mself\u001b[39;49m\u001b[38;5;241;43m.\u001b[39;49m\u001b[43moptions\u001b[49m\u001b[38;5;241;43m.\u001b[39;49m\u001b[43mget\u001b[49m\u001b[43m(\u001b[49m\u001b[38;5;124;43m\"\u001b[39;49m\u001b[38;5;124;43mmemory_map\u001b[39;49m\u001b[38;5;124;43m\"\u001b[39;49m\u001b[43m,\u001b[49m\u001b[43m \u001b[49m\u001b[38;5;28;43;01mFalse\u001b[39;49;00m\u001b[43m)\u001b[49m\u001b[43m,\u001b[49m\n\u001b[1;32m   1741\u001b[0m \u001b[43m    \u001b[49m\u001b[43mis_text\u001b[49m\u001b[38;5;241;43m=\u001b[39;49m\u001b[43mis_text\u001b[49m\u001b[43m,\u001b[49m\n\u001b[1;32m   1742\u001b[0m \u001b[43m    \u001b[49m\u001b[43merrors\u001b[49m\u001b[38;5;241;43m=\u001b[39;49m\u001b[38;5;28;43mself\u001b[39;49m\u001b[38;5;241;43m.\u001b[39;49m\u001b[43moptions\u001b[49m\u001b[38;5;241;43m.\u001b[39;49m\u001b[43mget\u001b[49m\u001b[43m(\u001b[49m\u001b[38;5;124;43m\"\u001b[39;49m\u001b[38;5;124;43mencoding_errors\u001b[39;49m\u001b[38;5;124;43m\"\u001b[39;49m\u001b[43m,\u001b[49m\u001b[43m \u001b[49m\u001b[38;5;124;43m\"\u001b[39;49m\u001b[38;5;124;43mstrict\u001b[39;49m\u001b[38;5;124;43m\"\u001b[39;49m\u001b[43m)\u001b[49m\u001b[43m,\u001b[49m\n\u001b[1;32m   1743\u001b[0m \u001b[43m    \u001b[49m\u001b[43mstorage_options\u001b[49m\u001b[38;5;241;43m=\u001b[39;49m\u001b[38;5;28;43mself\u001b[39;49m\u001b[38;5;241;43m.\u001b[39;49m\u001b[43moptions\u001b[49m\u001b[38;5;241;43m.\u001b[39;49m\u001b[43mget\u001b[49m\u001b[43m(\u001b[49m\u001b[38;5;124;43m\"\u001b[39;49m\u001b[38;5;124;43mstorage_options\u001b[39;49m\u001b[38;5;124;43m\"\u001b[39;49m\u001b[43m,\u001b[49m\u001b[43m \u001b[49m\u001b[38;5;28;43;01mNone\u001b[39;49;00m\u001b[43m)\u001b[49m\u001b[43m,\u001b[49m\n\u001b[1;32m   1744\u001b[0m \u001b[43m\u001b[49m\u001b[43m)\u001b[49m\n\u001b[1;32m   1745\u001b[0m \u001b[38;5;28;01massert\u001b[39;00m \u001b[38;5;28mself\u001b[39m\u001b[38;5;241m.\u001b[39mhandles \u001b[38;5;129;01mis\u001b[39;00m \u001b[38;5;129;01mnot\u001b[39;00m \u001b[38;5;28;01mNone\u001b[39;00m\n\u001b[1;32m   1746\u001b[0m f \u001b[38;5;241m=\u001b[39m \u001b[38;5;28mself\u001b[39m\u001b[38;5;241m.\u001b[39mhandles\u001b[38;5;241m.\u001b[39mhandle\n",
      "File \u001b[0;32m/data/wmanuel3/mapping/mcon/lib/python3.8/site-packages/pandas/io/common.py:856\u001b[0m, in \u001b[0;36mget_handle\u001b[0;34m(path_or_buf, mode, encoding, compression, memory_map, is_text, errors, storage_options)\u001b[0m\n\u001b[1;32m    851\u001b[0m \u001b[38;5;28;01melif\u001b[39;00m \u001b[38;5;28misinstance\u001b[39m(handle, \u001b[38;5;28mstr\u001b[39m):\n\u001b[1;32m    852\u001b[0m     \u001b[38;5;66;03m# Check whether the filename is to be opened in binary mode.\u001b[39;00m\n\u001b[1;32m    853\u001b[0m     \u001b[38;5;66;03m# Binary mode does not support 'encoding' and 'newline'.\u001b[39;00m\n\u001b[1;32m    854\u001b[0m     \u001b[38;5;28;01mif\u001b[39;00m ioargs\u001b[38;5;241m.\u001b[39mencoding \u001b[38;5;129;01mand\u001b[39;00m \u001b[38;5;124m\"\u001b[39m\u001b[38;5;124mb\u001b[39m\u001b[38;5;124m\"\u001b[39m \u001b[38;5;129;01mnot\u001b[39;00m \u001b[38;5;129;01min\u001b[39;00m ioargs\u001b[38;5;241m.\u001b[39mmode:\n\u001b[1;32m    855\u001b[0m         \u001b[38;5;66;03m# Encoding\u001b[39;00m\n\u001b[0;32m--> 856\u001b[0m         handle \u001b[38;5;241m=\u001b[39m \u001b[38;5;28;43mopen\u001b[39;49m\u001b[43m(\u001b[49m\n\u001b[1;32m    857\u001b[0m \u001b[43m            \u001b[49m\u001b[43mhandle\u001b[49m\u001b[43m,\u001b[49m\n\u001b[1;32m    858\u001b[0m \u001b[43m            \u001b[49m\u001b[43mioargs\u001b[49m\u001b[38;5;241;43m.\u001b[39;49m\u001b[43mmode\u001b[49m\u001b[43m,\u001b[49m\n\u001b[1;32m    859\u001b[0m \u001b[43m            \u001b[49m\u001b[43mencoding\u001b[49m\u001b[38;5;241;43m=\u001b[39;49m\u001b[43mioargs\u001b[49m\u001b[38;5;241;43m.\u001b[39;49m\u001b[43mencoding\u001b[49m\u001b[43m,\u001b[49m\n\u001b[1;32m    860\u001b[0m \u001b[43m            \u001b[49m\u001b[43merrors\u001b[49m\u001b[38;5;241;43m=\u001b[39;49m\u001b[43merrors\u001b[49m\u001b[43m,\u001b[49m\n\u001b[1;32m    861\u001b[0m \u001b[43m            \u001b[49m\u001b[43mnewline\u001b[49m\u001b[38;5;241;43m=\u001b[39;49m\u001b[38;5;124;43m\"\u001b[39;49m\u001b[38;5;124;43m\"\u001b[39;49m\u001b[43m,\u001b[49m\n\u001b[1;32m    862\u001b[0m \u001b[43m        \u001b[49m\u001b[43m)\u001b[49m\n\u001b[1;32m    863\u001b[0m     \u001b[38;5;28;01melse\u001b[39;00m:\n\u001b[1;32m    864\u001b[0m         \u001b[38;5;66;03m# Binary mode\u001b[39;00m\n\u001b[1;32m    865\u001b[0m         handle \u001b[38;5;241m=\u001b[39m \u001b[38;5;28mopen\u001b[39m(handle, ioargs\u001b[38;5;241m.\u001b[39mmode)\n",
      "\u001b[0;31mFileNotFoundError\u001b[0m: [Errno 2] No such file or directory: 'src_data/cvx_code.csv'"
     ]
    }
   ],
   "source": [
    "\n",
    "cvx_file = 'src_data/cvx_code.csv'\n",
    "cvx_df = pd.read_csv(cvx_file, sep='|', names = ['Short Description','Full Vaccine name','CVX Code','Vaccine Status','Last Updated Date','Notes'])\n",
    "cvx_df"
   ]
  },
  {
   "cell_type": "code",
   "execution_count": 80,
   "id": "3789e97b",
   "metadata": {},
   "outputs": [
    {
     "data": {
      "text/plain": [
       "3    [75]\n",
       "Name: CVX_Codes_new, dtype: object"
      ]
     },
     "execution_count": 80,
     "metadata": {},
     "output_type": "execute_result"
    }
   ],
   "source": [
    "# From vo_df_all, get rows where CVX_Codes_new is not empty and CVX_Codes_old is empty\n",
    "vo_df_all[vo_df_all['VO_ID']=='VO_0000003']['CVX_Codes_new']"
   ]
  },
  {
   "cell_type": "code",
   "execution_count": 180,
   "id": "a7b54973",
   "metadata": {},
   "outputs": [
    {
     "data": {
      "text/plain": [
       "3    [75]\n",
       "Name: CVX_Codes_old, dtype: object"
      ]
     },
     "execution_count": 180,
     "metadata": {},
     "output_type": "execute_result"
    }
   ],
   "source": [
    "vo_df_all[vo_df_all['VO_ID']=='VO_0000003']['CVX_Codes_old']"
   ]
  },
  {
   "cell_type": "code",
   "execution_count": 51,
   "id": "8b48a2a4",
   "metadata": {},
   "outputs": [
    {
     "data": {
      "text/plain": [
       "VO_ID            object\n",
       "CVX_Codes_new    object\n",
       "CVX_Codes_old    object\n",
       "dtype: object"
      ]
     },
     "execution_count": 51,
     "metadata": {},
     "output_type": "execute_result"
    }
   ],
   "source": [
    "vo_df_all.dtypes"
   ]
  },
  {
   "cell_type": "code",
   "execution_count": 33,
   "id": "e3b42b41",
   "metadata": {},
   "outputs": [
    {
     "data": {
      "text/html": [
       "<div>\n",
       "<style scoped>\n",
       "    .dataframe tbody tr th:only-of-type {\n",
       "        vertical-align: middle;\n",
       "    }\n",
       "\n",
       "    .dataframe tbody tr th {\n",
       "        vertical-align: top;\n",
       "    }\n",
       "\n",
       "    .dataframe thead th {\n",
       "        text-align: right;\n",
       "    }\n",
       "</style>\n",
       "<table border=\"1\" class=\"dataframe\">\n",
       "  <thead>\n",
       "    <tr style=\"text-align: right;\">\n",
       "      <th></th>\n",
       "      <th>VO_ID</th>\n",
       "      <th>CVX_Codes</th>\n",
       "    </tr>\n",
       "  </thead>\n",
       "  <tbody>\n",
       "    <tr>\n",
       "      <th>BFO_0000001</th>\n",
       "      <td>BFO_0000001</td>\n",
       "      <td>[]</td>\n",
       "    </tr>\n",
       "    <tr>\n",
       "      <th>BFO_0000002</th>\n",
       "      <td>BFO_0000002</td>\n",
       "      <td>[]</td>\n",
       "    </tr>\n",
       "    <tr>\n",
       "      <th>BFO_0000003</th>\n",
       "      <td>BFO_0000003</td>\n",
       "      <td>[]</td>\n",
       "    </tr>\n",
       "    <tr>\n",
       "      <th>BFO_0000004</th>\n",
       "      <td>BFO_0000004</td>\n",
       "      <td>[]</td>\n",
       "    </tr>\n",
       "    <tr>\n",
       "      <th>BFO_0000006</th>\n",
       "      <td>BFO_0000006</td>\n",
       "      <td>[]</td>\n",
       "    </tr>\n",
       "    <tr>\n",
       "      <th>...</th>\n",
       "      <td>...</td>\n",
       "      <td>...</td>\n",
       "    </tr>\n",
       "    <tr>\n",
       "      <th>VO_0015475</th>\n",
       "      <td>VO_0015475</td>\n",
       "      <td>[]</td>\n",
       "    </tr>\n",
       "    <tr>\n",
       "      <th>VO_0015476</th>\n",
       "      <td>VO_0015476</td>\n",
       "      <td>[]</td>\n",
       "    </tr>\n",
       "    <tr>\n",
       "      <th>VO_0015478</th>\n",
       "      <td>VO_0015478</td>\n",
       "      <td>[]</td>\n",
       "    </tr>\n",
       "    <tr>\n",
       "      <th>VO_0015483</th>\n",
       "      <td>VO_0015483</td>\n",
       "      <td>[]</td>\n",
       "    </tr>\n",
       "    <tr>\n",
       "      <th>VO_0015978</th>\n",
       "      <td>VO_0015978</td>\n",
       "      <td>[]</td>\n",
       "    </tr>\n",
       "  </tbody>\n",
       "</table>\n",
       "<p>8244 rows × 2 columns</p>\n",
       "</div>"
      ],
      "text/plain": [
       "                   VO_ID CVX_Codes\n",
       "BFO_0000001  BFO_0000001        []\n",
       "BFO_0000002  BFO_0000002        []\n",
       "BFO_0000003  BFO_0000003        []\n",
       "BFO_0000004  BFO_0000004        []\n",
       "BFO_0000006  BFO_0000006        []\n",
       "...                  ...       ...\n",
       "VO_0015475    VO_0015475        []\n",
       "VO_0015476    VO_0015476        []\n",
       "VO_0015478    VO_0015478        []\n",
       "VO_0015483    VO_0015483        []\n",
       "VO_0015978    VO_0015978        []\n",
       "\n",
       "[8244 rows x 2 columns]"
      ]
     },
     "execution_count": 33,
     "metadata": {},
     "output_type": "execute_result"
    }
   ],
   "source": [
    "vo_df[['VO_ID','CVX_Codes']]"
   ]
  }
 ],
 "metadata": {
  "kernelspec": {
   "display_name": "Python 3 (ipykernel)",
   "language": "python",
   "name": "python3"
  },
  "language_info": {
   "codemirror_mode": {
    "name": "ipython",
    "version": 3
   },
   "file_extension": ".py",
   "mimetype": "text/x-python",
   "name": "python",
   "nbconvert_exporter": "python",
   "pygments_lexer": "ipython3",
   "version": "3.8.18"
  }
 },
 "nbformat": 4,
 "nbformat_minor": 5
}
