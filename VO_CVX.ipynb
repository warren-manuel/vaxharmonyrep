{
 "cells": [
  {
   "cell_type": "code",
   "execution_count": 6,
   "id": "6121c225-5f76-4cd1-a8a8-04761e08f22d",
   "metadata": {},
   "outputs": [
    {
     "name": "stderr",
     "output_type": "stream",
     "text": [
      "[nltk_data] Downloading package stopwords to\n",
      "[nltk_data]     /data/wmanuel3/mapping/mcon/nltk_data...\n",
      "[nltk_data]   Package stopwords is already up-to-date!\n",
      "[nltk_data] Downloading package punkt to\n",
      "[nltk_data]     /data/wmanuel3/mapping/mcon/nltk_data...\n",
      "[nltk_data]   Package punkt is already up-to-date!\n"
     ]
    },
    {
     "data": {
      "text/plain": [
       "True"
      ]
     },
     "execution_count": 6,
     "metadata": {},
     "output_type": "execute_result"
    }
   ],
   "source": [
    "import nltk\n",
    "from nltk.tokenize import word_tokenize\n",
    "nltk.download('stopwords')\n",
    "nltk.download('punkt')"
   ]
  },
  {
   "cell_type": "code",
   "execution_count": 7,
   "id": "c30c7521-6a37-4502-8cfc-d411fee0b8f3",
   "metadata": {},
   "outputs": [],
   "source": [
    "from nltk.corpus import stopwords\n",
    "from string import punctuation\n",
    "\n",
    "stopwords = stopwords.words('english')\n",
    "stopwords.append('vaccine')\n",
    "punctuation = list(punctuation)\n",
    "\n",
    "def preprocessing(words, stpw, punct):\n",
    "    tokens = word_tokenize(words.lower())\n",
    "    out = set([t for t in tokens if t not in stpw and t not in punct])\n",
    "    return out"
   ]
  },
  {
   "cell_type": "code",
   "execution_count": 8,
   "id": "f57fa4e5-626c-4053-91ce-287f8a10c3e3",
   "metadata": {},
   "outputs": [],
   "source": [
    "from owlready2 import *\n",
    "def load_vo(ontology_url):\n",
    "    vo = owlready2.get_ontology(ontology_url)\n",
    "    vo.load()\n",
    "    vo_dict = {}\n",
    "    for concept in vo.classes():\n",
    "        cvx_codes = []\n",
    "        vo_id = re.search(r\"\\.(.*)\", str(concept)).group(1)\n",
    "        # vo_id = str(concept)[-10:]\n",
    "        # print(vo_id)\n",
    "        # print(concept.iri)\n",
    "        if vo_id == 'Thing':\n",
    "            continue\n",
    "        else:\n",
    "            lab = ''.join(concept.label)\n",
    "            vac_prop = ''.join(concept.VO_0003158)\n",
    "            defn = ''.join(concept.IAO_0000115)\n",
    "            edt_note = ''.join(concept.IAO_0000116)\n",
    "            vac_fda = ''.join(concept.VO_0003160)\n",
    "            for cvx in concept.seeAlso:\n",
    "                if cvx.startswith('CVX'):\n",
    "                    code = re.search(r\"^CVX\\D*:\\D*(\\d*)\", cvx).group(1)\n",
    "                    cvx_codes.append(code)\n",
    "            # print(vac_prop, type(vac_prop), vac_prop ==[])\n",
    "            if vac_prop != '':\n",
    "                tokens = preprocessing(vac_prop,stopwords,punctuation)\n",
    "            else:\n",
    "                tokens = preprocessing(lab, stopwords, punctuation)\n",
    "            vo_dict[vo_id] = {'Label':lab, 'Vaccine Name':vac_prop, 'Definition':defn, 'Editor Note':edt_note, 'FDA Vaccine Indications':vac_fda, 'Tokens':tokens, 'CVX_Codes':cvx_codes}\n",
    "    return vo_dict"
   ]
  },
  {
   "cell_type": "code",
   "execution_count": 9,
   "id": "8c508408-3a78-4bca-aae1-c9b36cfb3828",
   "metadata": {
    "scrolled": true
   },
   "outputs": [],
   "source": [
    "vo_04_24 = 'https://data.bioontology.org/ontologies/VO/submissions/291/download?apikey=8b5b7825-538d-40e0-9e9e-5ab9274a9aeb'\n",
    "vo_dict = load_vo(vo_04_24)"
   ]
  },
  {
   "cell_type": "code",
   "execution_count": 10,
   "id": "10b5d9f6-e01f-4456-a0d1-c57994073623",
   "metadata": {
    "scrolled": true
   },
   "outputs": [],
   "source": [
    "# 1.1.218 (02-26-2023)\n",
    "vo_02_23 = 'https://data.bioontology.org/ontologies/VO/submissions/282/download?apikey=8b5b7825-538d-40e0-9e9e-5ab9274a9aeb'\n",
    "vo_dict_old = load_vo(vo_02_23)"
   ]
  },
  {
   "cell_type": "code",
   "execution_count": 11,
   "id": "09f3ca54-7251-47ed-a361-9e26fe706f4e",
   "metadata": {},
   "outputs": [
    {
     "name": "stdout",
     "output_type": "stream",
     "text": [
      "Old VO: 6946, New VO: 8244\n"
     ]
    }
   ],
   "source": [
    "import pandas as pd\n",
    "vo_df = pd.DataFrame.from_records(vo_dict).T\n",
    "len(vo_dict)\n",
    "vo_df_old = pd.DataFrame.from_records(vo_dict_old).T\n",
    "print(f'Old VO: {len(vo_dict_old)}, New VO: {len(vo_dict)}')"
   ]
  },
  {
   "cell_type": "code",
   "execution_count": 12,
   "id": "ea34b8d8-ad7b-40e3-9a48-26acb675f0ea",
   "metadata": {},
   "outputs": [
    {
     "data": {
      "text/plain": [
       "[]       8053\n",
       "[158]       3\n",
       "[140]       2\n",
       "[25]        2\n",
       "[107]       2\n",
       "         ... \n",
       "[13]        1\n",
       "[79]        1\n",
       "[36]        1\n",
       "[117]       1\n",
       "[118]       1\n",
       "Name: CVX_Codes, Length: 177, dtype: int64"
      ]
     },
     "execution_count": 12,
     "metadata": {},
     "output_type": "execute_result"
    }
   ],
   "source": [
    "vo_df['CVX_Codes'].value_counts()"
   ]
  },
  {
   "cell_type": "code",
   "execution_count": null,
   "id": "40ca69b3-eee5-4eda-bf85-18a7c2bd4306",
   "metadata": {
    "scrolled": true
   },
   "outputs": [],
   "source": [
    "vo_df_old['CVX_Codes'].value_counts()"
   ]
  },
  {
   "cell_type": "code",
   "execution_count": null,
   "id": "28247f09-95af-4544-aba1-993e0ba703be",
   "metadata": {},
   "outputs": [],
   "source": [
    "vo_dict['VO_0010711']"
   ]
  },
  {
   "cell_type": "code",
   "execution_count": null,
   "id": "566f4e66-62cc-46b8-844c-374664505952",
   "metadata": {},
   "outputs": [],
   "source": [
    "vo_dict_old['VO_0010711']"
   ]
  },
  {
   "cell_type": "code",
   "execution_count": null,
   "id": "de9818b7-db14-41a0-ae2d-48463bbcd71b",
   "metadata": {},
   "outputs": [],
   "source": [
    "ontology_url = 'https://raw.githubusercontent.com/vaccineontology/VO/master/vo.owl'\n",
    "vo = owlready2.get_ontology(ontology_url)\n",
    "vo.load()"
   ]
  },
  {
   "cell_type": "code",
   "execution_count": null,
   "id": "8eb84588-8018-48a1-9cf8-abeaf3ec2411",
   "metadata": {},
   "outputs": [],
   "source": [
    "test = list(vo.classes())"
   ]
  },
  {
   "cell_type": "code",
   "execution_count": null,
   "id": "bb9fdd11-44bb-444a-83f4-13da292aae04",
   "metadata": {},
   "outputs": [],
   "source": [
    "dir(test[0])"
   ]
  },
  {
   "cell_type": "code",
   "execution_count": null,
   "id": "abafe045-293a-4cad-8df1-6de5e42b5a01",
   "metadata": {},
   "outputs": [],
   "source": [
    "c = IRIS['http://purl.obolibrary.org/obo/VO_0005440']"
   ]
  },
  {
   "cell_type": "code",
   "execution_count": null,
   "id": "987b4f02-f4c2-4335-b997-6423fbe47153",
   "metadata": {},
   "outputs": [],
   "source": [
    "c.seeAlso"
   ]
  }
 ],
 "metadata": {
  "kernelspec": {
   "display_name": "Python 3 (ipykernel)",
   "language": "python",
   "name": "python3"
  },
  "language_info": {
   "codemirror_mode": {
    "name": "ipython",
    "version": 3
   },
   "file_extension": ".py",
   "mimetype": "text/x-python",
   "name": "python",
   "nbconvert_exporter": "python",
   "pygments_lexer": "ipython3",
   "version": "3.8.18"
  }
 },
 "nbformat": 4,
 "nbformat_minor": 5
}
