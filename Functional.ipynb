{
 "cells": [
  {
   "cell_type": "markdown",
   "id": "c63d251d-ecd2-4775-8e5f-1e3b162ecfd6",
   "metadata": {},
   "source": [
    "# Data Loading and Preprocessing: "
   ]
  },
  {
   "cell_type": "code",
   "execution_count": null,
   "id": "1e71f15c-e804-4d02-bda0-68d413ccb672",
   "metadata": {},
   "outputs": [],
   "source": [
    "#Imports\n",
    "import pandas as pd"
   ]
  },
  {
   "cell_type": "code",
   "execution_count": null,
   "id": "4bbe60d4-7c3f-424f-962a-14e180c9e771",
   "metadata": {},
   "outputs": [],
   "source": [
    "def import_data(vo_file, rx_file):\n",
    "    RX_DF_FULL = pd.read_csv(rx_df_all_file, header=0, names=rx_columns.keys(), dtype=rx_columns)\n",
    "    VO_DF_FULL = pd.read_csv(vo_df_full_file,header=0, names=vo_columns.keys(), dtype=vo_columns)\n",
    "\n",
    "    return RX_DF_FULL, VO_DF_FULL"
   ]
  },
  {
   "cell_type": "code",
   "execution_count": null,
   "id": "b2078b4d-e7df-481d-8815-7f58ebf2da90",
   "metadata": {},
   "outputs": [],
   "source": [
    "vo_file = 'VO_DF_FULL_TRIMMED.csv'\n",
    "rx_file = 'RXN_Concepts.csv'\n",
    "\n",
    "vo_columns = {'ID':'str', 'VO_STR':'str', 'RXN':'Int64'}\n",
    "rx_columns = {'RXN':'Int64', 'RX_STR':'str', 'TTY':'category'}\n",
    "\n",
    "RX_DF_FULL, VO_DF_FULL = import_data(vo_file, rx_file)"
   ]
  },
  {
   "cell_type": "code",
   "execution_count": 2,
   "id": "162e68c4-5987-42a8-a5c8-0dc82db6cace",
   "metadata": {},
   "outputs": [],
   "source": [
    "import os\n",
    "import torch\n",
    "from sentence_transformers import SentenceTransformer"
   ]
  },
  {
   "cell_type": "code",
   "execution_count": 27,
   "id": "d44cddf6-9ca7-43ab-ab0e-1e7efbd39b44",
   "metadata": {},
   "outputs": [
    {
     "data": {
      "text/plain": [
       "'2'"
      ]
     },
     "execution_count": 27,
     "metadata": {},
     "output_type": "execute_result"
    }
   ],
   "source": [
    "# x = use_cuda.split(',')[0]\n",
    "# f'cuda:{x}'\n",
    "en_device = use_cuda.split(',')[0]\n",
    "en_device"
   ]
  },
  {
   "cell_type": "code",
   "execution_count": 28,
   "id": "a34554b7-4817-4848-958f-2c33bfc7a326",
   "metadata": {},
   "outputs": [],
   "source": [
    "if torch.cuda.is_available():\n",
    "    use_cuda = \"2,3\" #Change as required. Maybe add user input\n",
    "    os.environ[\"CUDA_VISIBLE_DEVICES\"] = use_cuda\n",
    "    d_idx = use_cuda.split(',')[0]\n",
    "    st_device = torch.device(f'cuda:{d_idx}')"
   ]
  },
  {
   "cell_type": "code",
   "execution_count": 29,
   "id": "d19880ce-1e88-4e9f-a1a9-85024b4397b2",
   "metadata": {},
   "outputs": [
    {
     "data": {
      "text/plain": [
       "device(type='cuda', index=2)"
      ]
     },
     "execution_count": 29,
     "metadata": {},
     "output_type": "execute_result"
    }
   ],
   "source": [
    "st_model = SentenceTransformer('tavakolih/all-MiniLM-L6-v2-pubmed-full', device = st_device)"
   ]
  },
  {
   "cell_type": "code",
   "execution_count": null,
   "id": "2bf8797c-6c96-4431-a4cd-c6f940ab9090",
   "metadata": {},
   "outputs": [],
   "source": [
    "def encode_sentences(VO_DF_FULL, RX_DF_ALL, st_model,device ):\n",
    "    # Encode sentences for VO_DF_FULL\n",
    "    VO_DF_FULL['VO_EMB'] = VO_DF_FULL['VO_STR'].map(lambda x: st_model.encode(x, device=device))\n",
    "    # Encode sentences for RX_DF_ALL\n",
    "    RX_DF_FULL['RX_EMB'] = RX_DF_FULL['RX_STR'].map(lambda x: st_model.encode(x, device=device))\n",
    "    # Clear CUDA memory\n",
    "    del st_model\n",
    "    torch.cuda.empty_cache()"
   ]
  },
  {
   "cell_type": "code",
   "execution_count": null,
   "id": "5d7e65f3-4d90-4886-aad8-4d85cfd7bc47",
   "metadata": {},
   "outputs": [],
   "source": [
    "encode_sentences(VO_DF_FULL, RX_DF_FULL, st_model, st_device)"
   ]
  }
 ],
 "metadata": {
  "kernelspec": {
   "display_name": "Python 3 (ipykernel)",
   "language": "python",
   "name": "python3"
  },
  "language_info": {
   "codemirror_mode": {
    "name": "ipython",
    "version": 3
   },
   "file_extension": ".py",
   "mimetype": "text/x-python",
   "name": "python",
   "nbconvert_exporter": "python",
   "pygments_lexer": "ipython3",
   "version": "3.8.18"
  }
 },
 "nbformat": 4,
 "nbformat_minor": 5
}
