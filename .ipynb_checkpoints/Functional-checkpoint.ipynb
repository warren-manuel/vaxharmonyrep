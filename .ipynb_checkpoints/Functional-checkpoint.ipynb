{
 "cells": [
  {
   "cell_type": "markdown",
   "id": "c63d251d-ecd2-4775-8e5f-1e3b162ecfd6",
   "metadata": {},
   "source": [
    "# Data Loading and Preprocessing: "
   ]
  },
  {
   "cell_type": "code",
   "execution_count": null,
   "id": "1e71f15c-e804-4d02-bda0-68d413ccb672",
   "metadata": {},
   "outputs": [],
   "source": [
    "#Imports\n",
    "import pandas as pd"
   ]
  },
  {
   "cell_type": "code",
   "execution_count": null,
   "id": "4bbe60d4-7c3f-424f-962a-14e180c9e771",
   "metadata": {},
   "outputs": [],
   "source": [
    "def import_data(vo_file, rx_file):\n",
    "    RX_DF_FULL = pd.read_csv(rx_df_all_file, header=0, names=rx_columns.keys(), dtype=rx_columns)\n",
    "    VO_DF_FULL = pd.read_csv(vo_df_full_file,header=0, names=vo_columns.keys(), dtype=vo_columns)\n",
    "\n",
    "    return RX_DF_FULL, VO_DF_FULL"
   ]
  },
  {
   "cell_type": "code",
   "execution_count": null,
   "id": "b2078b4d-e7df-481d-8815-7f58ebf2da90",
   "metadata": {},
   "outputs": [],
   "source": [
    "vo_file = 'VO_DF_FULL_TRIMMED.csv'\n",
    "rx_file = 'RXN_Concepts.csv'\n",
    "\n",
    "vo_columns = {'ID':'str', 'VO_STR':'str', 'RXN':'Int64'}\n",
    "rx_columns = {'RXN':'Int64', 'RX_STR':'str', 'TTY':'category'}\n",
    "\n",
    "RX_DF_FULL, VO_DF_FULL = import_data(vo_file, rx_file)"
   ]
  },
  {
   "cell_type": "code",
   "execution_count": 2,
   "id": "162e68c4-5987-42a8-a5c8-0dc82db6cace",
   "metadata": {},
   "outputs": [],
   "source": [
    "import os\n",
    "import torch\n",
    "from sentence_transformers import SentenceTransformer"
   ]
  },
  {
   "cell_type": "code",
   "execution_count": 3,
   "id": "a34554b7-4817-4848-958f-2c33bfc7a326",
   "metadata": {},
   "outputs": [],
   "source": [
    "use_cuda = \"2,3\" #Change as required\n",
    "os.environ[\"CUDA_VISIBLE_DEVICES\"] = use_cuda"
   ]
  },
  {
   "cell_type": "code",
   "execution_count": null,
   "id": "2bf8797c-6c96-4431-a4cd-c6f940ab9090",
   "metadata": {},
   "outputs": [],
   "source": [
    "def encode_sentences(VO_DF_FULL, RX_DF_ALL):\n",
    "    # Check if GPU is available\n",
    "    if torch.cuda.is_available():\n",
    "        # Set the device to GPU\n",
    "        device = torch.device('cuda:0')  # Use the first CUDA device available\n",
    "        print('Using GPU:', torch.cuda.get_device_name(device))\n",
    "    else:\n",
    "        device = torch.device('cpu')\n",
    "        print('GPU not available, using CPU.')\n",
    "\n",
    "    # Load SentenceTransformer model\n",
    "    st_model = SentenceTransformer('tavakolih/all-MiniLM-L6-v2-pubmed-full', device=device)\n",
    "\n",
    "    # Encode sentences for VO_DF_FULL\n",
    "    VO_DF_FULL['VO_EMB'] = VO_DF_FULL['VO_STR'].map(lambda x: st_model.encode(x, device=device))\n",
    "\n",
    "    # Encode sentences for RX_DF_ALL\n",
    "    RX_DF_ALL['RX_EMB'] = RX_DF_ALL['RX_STR'].map(lambda x: st_model.encode(x, device=device))\n",
    "\n",
    "    # Clear CUDA memory\n",
    "    del st_model\n",
    "    torch.cuda.empty_cache()\n",
    "\n",
    "# Example usage:\n",
    "encode_sentences(VO_DF_FULL, RX_DF_ALL)\n"
   ]
  }
 ],
 "metadata": {
  "kernelspec": {
   "display_name": "Python 3 (ipykernel)",
   "language": "python",
   "name": "python3"
  },
  "language_info": {
   "codemirror_mode": {
    "name": "ipython",
    "version": 3
   },
   "file_extension": ".py",
   "mimetype": "text/x-python",
   "name": "python",
   "nbconvert_exporter": "python",
   "pygments_lexer": "ipython3",
   "version": "3.8.18"
  }
 },
 "nbformat": 4,
 "nbformat_minor": 5
}
